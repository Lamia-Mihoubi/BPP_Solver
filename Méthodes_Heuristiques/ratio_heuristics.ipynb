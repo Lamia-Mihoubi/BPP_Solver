{
 "cells": [
  {
   "cell_type": "code",
   "execution_count": 1,
   "metadata": {},
   "outputs": [],
   "source": [
    "import numpy as np\n",
    "import glob"
   ]
  },
  {
   "cell_type": "code",
   "execution_count": 2,
   "metadata": {},
   "outputs": [],
   "source": [
    "def ratio(liste1, liste2): #la fct du ratio\n",
    "    liste3 =[]\n",
    "    for i in range(len(liste1)) :\n",
    "        frac = float(liste1[i]/liste2[i])\n",
    "        liste3.append(frac)\n",
    "    return max(liste3)\n"
   ]
  },
  {
   "cell_type": "code",
   "execution_count": 10,
   "metadata": {},
   "outputs": [
    {
     "data": {
      "text/plain": [
       "3.0"
      ]
     },
     "execution_count": 10,
     "metadata": {},
     "output_type": "execute_result"
    }
   ],
   "source": []
  },
  {
   "cell_type": "code",
   "execution_count": 8,
   "metadata": {},
   "outputs": [],
   "source": [
    "\"\"\"with open(\"C:\\\\Users\\\\winsido\\\\Desktop\\\\try.txt\",\"r+\") as file :\n",
    "    data = file.readlines()\n",
    "    for line in data :\n",
    "        line.replace('\\t',' ', 1)\"\"\"\n",
    "        "
   ]
  },
  {
   "cell_type": "code",
   "execution_count": 16,
   "metadata": {},
   "outputs": [],
   "source": [
    "\"\"\"with open(\"C:\\\\Users\\\\winsido\\\\Desktop\\\\try.txt\") as file, open(\"C:\\\\Users\\\\winsido\\\\Desktop\\\\try_new.txt\", 'w') as new:\n",
    "    for line in file:\n",
    "        new.write(line.replace('\\t', ' '))\"\"\""
   ]
  },
  {
   "cell_type": "code",
   "execution_count": 1,
   "metadata": {},
   "outputs": [
    {
     "ename": "NameError",
     "evalue": "name 'glob' is not defined",
     "output_type": "error",
     "traceback": [
      "\u001b[0;31m---------------------------------------------------------------------------\u001b[0m",
      "\u001b[0;31mNameError\u001b[0m                                 Traceback (most recent call last)",
      "\u001b[0;32m<ipython-input-1-3718129a6560>\u001b[0m in \u001b[0;36m<module>\u001b[0;34m\u001b[0m\n\u001b[1;32m      4\u001b[0m         \u001b[0mliste\u001b[0m\u001b[0;34m.\u001b[0m\u001b[0mappend\u001b[0m\u001b[0;34m(\u001b[0m\u001b[0mf\u001b[0m\u001b[0;34m)\u001b[0m\u001b[0;34m\u001b[0m\u001b[0;34m\u001b[0m\u001b[0m\n\u001b[1;32m      5\u001b[0m     \u001b[0;32mreturn\u001b[0m \u001b[0mliste\u001b[0m\u001b[0;34m\u001b[0m\u001b[0;34m\u001b[0m\u001b[0m\n\u001b[0;32m----> 6\u001b[0;31m \u001b[0mlist\u001b[0m\u001b[0;34m=\u001b[0m\u001b[0msearch_files\u001b[0m\u001b[0;34m(\u001b[0m\u001b[0;34m\"/home/nsarah/Documents/2CS-SIQ3-S2/2019-2020/OPT/TP/GitHub/BPP_Solver/Méthodes_Heuristiques/optimal_values_used/\"\u001b[0m\u001b[0;34m,\u001b[0m\u001b[0;34m\".txt\"\u001b[0m\u001b[0;34m)\u001b[0m\u001b[0;34m\u001b[0m\u001b[0;34m\u001b[0m\u001b[0m\n\u001b[0m\u001b[1;32m      7\u001b[0m \u001b[0mlist\u001b[0m\u001b[0;34m.\u001b[0m\u001b[0msort\u001b[0m\u001b[0;34m(\u001b[0m\u001b[0;34m)\u001b[0m\u001b[0;34m\u001b[0m\u001b[0;34m\u001b[0m\u001b[0m\n\u001b[1;32m      8\u001b[0m \u001b[0mprint\u001b[0m\u001b[0;34m(\u001b[0m\u001b[0mlist\u001b[0m\u001b[0;34m)\u001b[0m\u001b[0;34m\u001b[0m\u001b[0;34m\u001b[0m\u001b[0m\n",
      "\u001b[0;32m<ipython-input-1-3718129a6560>\u001b[0m in \u001b[0;36msearch_files\u001b[0;34m(base_path, ext)\u001b[0m\n\u001b[1;32m      1\u001b[0m \u001b[0;32mdef\u001b[0m \u001b[0msearch_files\u001b[0m\u001b[0;34m(\u001b[0m\u001b[0mbase_path\u001b[0m\u001b[0;34m,\u001b[0m \u001b[0mext\u001b[0m\u001b[0;34m)\u001b[0m\u001b[0;34m:\u001b[0m \u001b[0;31m# search .ext files in base_path directory\u001b[0m\u001b[0;34m\u001b[0m\u001b[0;34m\u001b[0m\u001b[0m\n\u001b[1;32m      2\u001b[0m     \u001b[0mliste\u001b[0m\u001b[0;34m=\u001b[0m\u001b[0;34m[\u001b[0m\u001b[0;34m]\u001b[0m\u001b[0;34m\u001b[0m\u001b[0;34m\u001b[0m\u001b[0m\n\u001b[0;32m----> 3\u001b[0;31m     \u001b[0;32mfor\u001b[0m \u001b[0mf\u001b[0m \u001b[0;32min\u001b[0m \u001b[0mglob\u001b[0m\u001b[0;34m.\u001b[0m\u001b[0mglob\u001b[0m\u001b[0;34m(\u001b[0m\u001b[0mbase_path\u001b[0m\u001b[0;34m+\u001b[0m\u001b[0;34m\"**/*\"\u001b[0m\u001b[0;34m+\u001b[0m\u001b[0mext\u001b[0m\u001b[0;34m,\u001b[0m \u001b[0mrecursive\u001b[0m\u001b[0;34m=\u001b[0m\u001b[0;32mTrue\u001b[0m\u001b[0;34m)\u001b[0m\u001b[0;34m:\u001b[0m\u001b[0;34m\u001b[0m\u001b[0;34m\u001b[0m\u001b[0m\n\u001b[0m\u001b[1;32m      4\u001b[0m         \u001b[0mliste\u001b[0m\u001b[0;34m.\u001b[0m\u001b[0mappend\u001b[0m\u001b[0;34m(\u001b[0m\u001b[0mf\u001b[0m\u001b[0;34m)\u001b[0m\u001b[0;34m\u001b[0m\u001b[0;34m\u001b[0m\u001b[0m\n\u001b[1;32m      5\u001b[0m     \u001b[0;32mreturn\u001b[0m \u001b[0mliste\u001b[0m\u001b[0;34m\u001b[0m\u001b[0;34m\u001b[0m\u001b[0m\n",
      "\u001b[0;31mNameError\u001b[0m: name 'glob' is not defined"
     ]
    }
   ],
   "source": [
    "def search_files(base_path, ext): # search .ext files in base_path directory\n",
    "    liste=[]\n",
    "    for f in glob.glob(base_path+\"**/*\"+ext, recursive=True):\n",
    "        liste.append(f)\n",
    "    return liste\n",
    "list=search_files(\"/home/nsarah/Documents/2CS-SIQ3-S2/2019-2020/OPT/TP/GitHub/BPP_Solver/Méthodes_Heuristiques/optimal_values_used/\",\".txt\")\n",
    "list.sort()\n",
    "print(list)"
   ]
  },
  {
   "cell_type": "code",
   "execution_count": 19,
   "metadata": {},
   "outputs": [
    {
     "name": "stdout",
     "output_type": "stream",
     "text": [
      "/home/nsarah/Documents/2CS-SIQ3-S2/2019-2020/OPT/TP/GitHub/BPP_Solver/Méthodes_Heuristiques/Rédultats_nbr_boites_par_N/NF/NF_Classe1_N1.txt\n",
      "['N1C1W2_K 39\\n', 'N1C1W4_D 43\\n', 'N1C1W1_D 32\\n', 'N1C1W1_F 32\\n', 'N1C1W2_D 37\\n', 'N1C2W2_E 38\\n', 'N1C2W1_F 28\\n', 'N1C2W1_B 31\\n', 'N1C2W4_C 37\\n', 'N1C2W2_L 36\\n', 'N1C3W1_A 23\\n', 'N1C3W2_H 31\\n', 'N1C3W1_B 22\\n', 'N1C3W2_G 31\\n', 'N1C3W1_C 24\\n']\n",
      "['N1C1W2_K 35 \\n', 'N1C1W4_D 38\\n', 'N1C1W1_D 28 \\n', 'N1C1W1_F 27\\n', 'N1C1W2_D 31\\n', 'N1C2W2_E 33\\n', 'N1C2W1_F 22 \\n', 'N1C2W1_B 26  \\n', 'N1C2W4_C 30 \\n', 'N1C2W2_L 30\\n', 'N1C3W1_A 16\\n', 'N1C3W2_H 23 \\n', 'N1C3W1_B 16 \\n', 'N1C3W2_G 23 \\n', 'N1C3W1_C 17']\n",
      "/home/nsarah/Documents/2CS-SIQ3-S2/2019-2020/OPT/TP/GitHub/BPP_Solver/Méthodes_Heuristiques/Rédultats_nbr_boites_par_N/NF/NF_Classe1_N2.txt\n",
      "['N2C1W2_D 84\\n', 'N2C1W2_C 79\\n', 'N2C1W4_I 84\\n', 'N2C1W4_D 90\\n', 'N2C2W1_B 63\\n', 'N2C2W1_F 64\\n', 'N2C2W4_G 78\\n', 'N2C2W4_B 75\\n', 'N2C2W2_J 72\\n', 'N2C2W2_T 71\\n', 'N2C3W1_B 50\\n', 'N2C3W1_A 50\\n']\n",
      "['N2C1W2_D 74\\n', 'N2C1W2_C 68 \\n', 'N2C1W4_I 73\\n', 'N2C1W4_D 82 \\n', 'N2C2W1_B 50 \\n', 'N2C2W1_F 49\\n', 'N2C2W4_G 61\\n', 'N2C2W4_B 60\\n', 'N2C2W2_J 56\\n', 'N2C2W2_T 56 \\n', 'N2C3W1_B 35\\n', 'N2C3W1_A 35  \\n']\n",
      "/home/nsarah/Documents/2CS-SIQ3-S2/2019-2020/OPT/TP/GitHub/BPP_Solver/Méthodes_Heuristiques/Rédultats_nbr_boites_par_N/NF/NF_Classe1_N3.txt\n",
      "['N3C1W4_B 172\\n', 'N3C1W1_D 135\\n', 'N3C1W1_G 135\\n', 'N3C1W2_B 155\\n', 'N3C1W2_E 158\\n', 'N3C2W2_O 141\\n', 'N3C2W4_C 160\\n', 'N3C2W2_A 143\\n', 'N3C2W1_G 120\\n', 'N3C3W1_B 98\\n', 'N3C3W1_D 88\\n']\n",
      "['N3C1W4_B 149\\n', 'N3C1W1_D 108 \\n', 'N3C1W1_G 111 \\n', 'N3C1W2_B 126 \\n', 'N3C1W2_E 132 \\n', 'N3C2W2_O 107 \\n', 'N3C2W4_C 132 \\n', 'N3C2W2_A 107\\n', 'N3C2W1_G 87\\n', 'N3C3W1_B 71 \\n', 'N3C3W1_D 63 \\n', '\\n']\n",
      "/home/nsarah/Documents/2CS-SIQ3-S2/2019-2020/OPT/TP/GitHub/BPP_Solver/Méthodes_Heuristiques/Rédultats_nbr_boites_par_N/NF/NF_Classe1_N4.txt\n",
      "['N4C1W2_H 386\\n', 'N4C1W4_R 430\\n', 'N4C1W1_K 322\\n', 'N4C1W4_A 424\\n', 'N4C2W4_D 383\\n', 'N4C2W4_F 388\\n', 'N4C2W2_S 358\\n', 'N4C2W2_A 344\\n', 'N4C3W1_J 236\\n', 'N4C3W1_C 226\\n', 'N4C3W1_I 232\\n', 'N4C3W1_D 214\\n']\n",
      "['N4C1W2_H 315 \\n', 'N4C1W4_R 370 \\n', 'N4C1W1_K 253 \\n', 'N4C1W4_A 368\\n', 'N4C2W4_D 295 \\n', 'N4C2W4_F 304 \\n', 'N4C2W2_S 273\\n', 'N4C2W2_A 253\\n', 'N4C3W1_J 169 \\n', 'N4C3W1_C 166\\n', 'N4C3W1_I 167\\n', 'N4C3W1_D 158 ']\n",
      "/home/nsarah/Documents/2CS-SIQ3-S2/2019-2020/OPT/TP/GitHub/BPP_Solver/Méthodes_Heuristiques/Rédultats_nbr_boites_par_N/NF/NF_Classe2_N1.txt\n",
      "['N1W4B2R1 6\\n', 'N1W4B2R2 6\\n', 'N1W4B3R0 6\\n', 'N1W4B3R3 6\\n', 'N1W3B3R3 9\\n']\n",
      "['N1W4B2R1 6\\n', 'N1W4B2R2 6\\n', 'N1W4B3R0 6\\t\\n', 'N1W4B3R3 6\\n', 'N1W3B3R3 8']\n",
      "/home/nsarah/Documents/2CS-SIQ3-S2/2019-2020/OPT/TP/GitHub/BPP_Solver/Méthodes_Heuristiques/Rédultats_nbr_boites_par_N/NF/NF_Classe2_N2.txt\n",
      "['N2W3B3R4 16\\n', 'N2W3B3R9 15\\n', 'N2W3B3R8 16\\n', 'N2W2B3R4 25\\n', 'N2W3B1R7 15\\n']\n",
      "['N2W3B3R4 15 \\n', 'N2W3B3R9 14\\n', 'N2W3B3R8 15 \\n', 'N2W2B3R4 21  \\n', 'N2W3B1R7 14 ']\n",
      "/home/nsarah/Documents/2CS-SIQ3-S2/2019-2020/OPT/TP/GitHub/BPP_Solver/Méthodes_Heuristiques/Rédultats_nbr_boites_par_N/NF/NF_Classe2_N3.txt\n",
      "['N3W4B3R7 23\\n', 'N3W4B3R8 25\\n', 'N3W3B3R9 33\\n', 'N3W4B3R6 25\\n', 'N3W3B3R8 32\\n']\n",
      "['N3W4B3R7 21 \\n', 'N3W4B3R8 23 \\n', 'N3W3B3R9 29\\n', 'N3W4B3R6 23\\n', 'N3W3B3R8 29 ']\n",
      "/home/nsarah/Documents/2CS-SIQ3-S2/2019-2020/OPT/TP/GitHub/BPP_Solver/Méthodes_Heuristiques/Rédultats_nbr_boites_par_N/NF/NF_Classe2_N4.txt\n",
      "['N4W4B3R2 61\\n', 'N4W4B3R4 59\\n', 'N4W3B3R9 78\\n', 'N4W4B3R3 60\\n', 'N4W4B3R1 58\\n']\n",
      "['N4W4B3R2 57 \\n', 'N4W4B3R4 55 \\n', 'N4W3B3R9 71\\n', 'N4W4B3R3 56 \\n', 'N4W4B3R1 54 \\n', '\\n', '\\n', '\\n']\n",
      "/home/nsarah/Documents/2CS-SIQ3-S2/2019-2020/OPT/TP/GitHub/BPP_Solver/Méthodes_Heuristiques/Rédultats_nbr_boites_par_N/NF/NF_Classe3_N3.txt\n",
      "['HARD2 66\\n', 'HARD6 65\\n', 'HARD3 64\\n', 'HARD8 66\\n', 'HARD1 66\\n', 'HARD7 63\\n', 'HARD9 65\\n', 'HARD4 65\\n', 'HARD5 65\\n', 'HARD0 65\\n']\n",
      "['HARD2 56\\n', 'HARD6 57\\t\\n', 'HARD3 55\\n', 'HARD8 57\\n', 'HARD1 57\\n', 'HARD7 55\\t\\n', 'HARD9 56\\n', 'HARD4 57\\t\\n', 'HARD5 56\\t\\n', 'HARD0 56']\n"
     ]
    }
   ],
   "source": [
    "files =[]\n",
    "files2 = []\n",
    "\n",
    "with open(\"/home/nsarah/Documents/2CS-SIQ3-S2/2019-2020/OPT/TP/GitHub/BPP_Solver/Méthodes_Heuristiques/ratio_NF.txt\",'w') as res: #the ratio file\n",
    "    for f in search_files(\"/home/nsarah/Documents/2CS-SIQ3-S2/2019-2020/OPT/TP/GitHub/BPP_Solver/Méthodes_Heuristiques/Rédultats_nbr_boites_par_N/NF/\",\".txt\") : #heuristics values file\n",
    "        files.append(f)\n",
    "    files.sort()\n",
    "    for f2 in search_files(\"/home/nsarah/Documents/2CS-SIQ3-S2/2019-2020/OPT/TP/GitHub/BPP_Solver/Méthodes_Heuristiques/optimal_values_used/\",'.txt') : #opt values file\n",
    "        files2.append(f2)    \n",
    "    files2.sort()\n",
    "    for j in range(len(files)) :\n",
    "        print(files[j])\n",
    "        with open(files[j],'r') as file :\n",
    "            data = file.readlines()\n",
    "            print(data)\n",
    "        with open(files2[j],'r') as file2 :\n",
    "            data2 = file2.readlines()\n",
    "            print(data2)\n",
    "            liste1=[]\n",
    "            liste2=[]\n",
    "        for i in range(len(data)):#every line of the file\n",
    "            l1=data[i].split() #split it into words\n",
    "            l2=data2[i].split()\n",
    "            a=int(l1[1])\n",
    "            b=int(l2[1])\n",
    "            liste1.append(a)\n",
    "            liste2.append(b)\n",
    "        ratio(liste1,liste2)    \n",
    "        res.write('{} ratio:  {}'.format(files[j],ratio(liste1,liste2)))\n",
    "        res.write('\\n')\n",
    "    \n"
   ]
  },
  {
   "cell_type": "code",
   "execution_count": null,
   "metadata": {},
   "outputs": [],
   "source": []
  },
  {
   "cell_type": "code",
   "execution_count": null,
   "metadata": {},
   "outputs": [],
   "source": []
  }
 ],
 "metadata": {
  "kernelspec": {
   "display_name": "Python 3",
   "language": "python",
   "name": "python3"
  },
  "language_info": {
   "codemirror_mode": {
    "name": "ipython",
    "version": 3
   },
   "file_extension": ".py",
   "mimetype": "text/x-python",
   "name": "python",
   "nbconvert_exporter": "python",
   "pygments_lexer": "ipython3",
   "version": "3.7.6"
  }
 },
 "nbformat": 4,
 "nbformat_minor": 2
}
